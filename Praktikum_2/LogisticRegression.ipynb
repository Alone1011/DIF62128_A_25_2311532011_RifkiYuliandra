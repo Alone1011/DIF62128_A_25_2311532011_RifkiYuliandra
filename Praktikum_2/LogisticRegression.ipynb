{
  "nbformat": 4,
  "nbformat_minor": 0,
  "metadata": {
    "colab": {
      "provenance": [],
      "authorship_tag": "ABX9TyNVer2MQtSp0nfB6FYoJnJY",
      "include_colab_link": true
    },
    "kernelspec": {
      "name": "python3",
      "display_name": "Python 3"
    },
    "language_info": {
      "name": "python"
    }
  },
  "cells": [
    {
      "cell_type": "markdown",
      "metadata": {
        "id": "view-in-github",
        "colab_type": "text"
      },
      "source": [
        "<a href=\"https://colab.research.google.com/github/Alone1011/DIF62128_A_25_2311532011_RifkiYuliandra/blob/main/Praktikum_2/LogisticRegression.ipynb\" target=\"_parent\"><img src=\"https://colab.research.google.com/assets/colab-badge.svg\" alt=\"Open In Colab\"/></a>"
      ]
    },
    {
      "cell_type": "markdown",
      "source": [
        "# Step 1\n",
        "\n",
        "* Import library yang diperlukan\n",
        "\n",
        "\n",
        "\n"
      ],
      "metadata": {
        "id": "Pi8O0BP8NZeV"
      }
    },
    {
      "cell_type": "code",
      "execution_count": null,
      "metadata": {
        "id": "JTNLfP6gNX3T"
      },
      "outputs": [],
      "source": []
    }
  ]
}